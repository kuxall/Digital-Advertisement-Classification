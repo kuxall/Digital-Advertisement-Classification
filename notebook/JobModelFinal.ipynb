{
 "cells": [
  {
   "attachments": {},
   "cell_type": "markdown",
   "id": "9342a38b",
   "metadata": {},
   "source": [
    "### Importing Machine Learning Libraries"
   ]
  },
  {
   "cell_type": "code",
   "execution_count": 55,
   "id": "bea6092e",
   "metadata": {},
   "outputs": [],
   "source": [
    "import numpy as np\n",
    "import pandas as pd\n",
    "import matplotlib.pyplot as plt\n",
    "import seaborn as sns # used for plot interactive graph. \n",
    "import matplotlib.pyplot as plt\n",
    "import seaborn as sns\n",
    "import streamlit as st \n",
    "\n",
    "from sklearn.feature_extraction.text import CountVectorizer\n",
    "from sklearn.multiclass import OneVsRestClassifier\n",
    "from sklearn.preprocessing import OneHotEncoder\n",
    "from sklearn.pipeline import Pipeline\n",
    "\n",
    "from sklearn.feature_extraction.text import TfidfVectorizer\n",
    "from sklearn.feature_selection import chi2\n",
    "from sklearn.model_selection import train_test_split\n",
    "from sklearn.feature_extraction.text import TfidfTransformer\n",
    "\n",
    "from sklearn.svm import LinearSVC\n",
    "from sklearn.model_selection import cross_val_score\n",
    "from sklearn.metrics import confusion_matrix\n",
    "from sklearn.metrics import classification_report\n",
    "\n",
    "\n",
    "import warnings\n",
    "warnings.filterwarnings(\"ignore\", category=UserWarning)\n",
    "warnings.filterwarnings(\"ignore\", category=FutureWarning)\n"
   ]
  },
  {
   "attachments": {},
   "cell_type": "markdown",
   "id": "fe5650e0",
   "metadata": {},
   "source": [
    "### Reads an Excel file for performing classification"
   ]
  },
  {
   "cell_type": "code",
   "execution_count": 56,
   "id": "b86a63cc",
   "metadata": {},
   "outputs": [],
   "source": [
    "df = pd.read_excel(\"/home/kushal/Documents/projects/tf-idf-implementation/data/ConcatenatedDigitalAdData.xlsx\")\n"
   ]
  },
  {
   "attachments": {},
   "cell_type": "markdown",
   "id": "1141cc66",
   "metadata": {},
   "source": [
    "### Creating a new column in the DataFrame called \"TitleandDesc\" by concatenating the values of the \"title\" and \"Job_Description\" columns"
   ]
  },
  {
   "cell_type": "code",
   "execution_count": 57,
   "id": "097801cf",
   "metadata": {},
   "outputs": [],
   "source": [
    "df[\"TitleandDesc\"] = df[\"title\"] + df[\"Job_Description\"]"
   ]
  },
  {
   "cell_type": "code",
   "execution_count": 58,
   "id": "2cf6a9c2",
   "metadata": {},
   "outputs": [
    {
     "data": {
      "text/plain": [
       "0       Commercial Painters needed ASAP at our Dallas/...\n",
       "1       Nightclub Jobs -Model/Servers- Cash Daily,Look...\n",
       "2       Nightclub Jobs -Model Servers- Cash Daily,* Mo...\n",
       "3       PRINTING - 1st shift,CDL Class A full time loc...\n",
       "4       Admin Assistant,Necesito personal de limpieza ...\n",
       "                              ...                        \n",
       "1536    Price Quoting AnalystElectronics company in Ca...\n",
       "1537    Conltoller/Office Manager at Exciting CompanyR...\n",
       "1538    Accounting & Tax ProfessionalCPA firm is hirin...\n",
       "1539    Licensed Life and Health agenthttps://team.inv...\n",
       "1540    REMCO NOW HIRING $2,600-$3,000 + COMMISSIONS -...\n",
       "Name: TitleandDesc, Length: 1541, dtype: object"
      ]
     },
     "execution_count": 58,
     "metadata": {},
     "output_type": "execute_result"
    }
   ],
   "source": [
    "df[\"TitleandDesc\"]"
   ]
  },
  {
   "attachments": {},
   "cell_type": "markdown",
   "id": "c9d5027b",
   "metadata": {},
   "source": [
    "### Cleaning and Preprocessing the data before further analysis"
   ]
  },
  {
   "cell_type": "code",
   "execution_count": 59,
   "id": "1903214d",
   "metadata": {},
   "outputs": [
    {
     "data": {
      "text/html": [
       "<div>\n",
       "<style scoped>\n",
       "    .dataframe tbody tr th:only-of-type {\n",
       "        vertical-align: middle;\n",
       "    }\n",
       "\n",
       "    .dataframe tbody tr th {\n",
       "        vertical-align: top;\n",
       "    }\n",
       "\n",
       "    .dataframe thead th {\n",
       "        text-align: right;\n",
       "    }\n",
       "</style>\n",
       "<table border=\"1\" class=\"dataframe\">\n",
       "  <thead>\n",
       "    <tr style=\"text-align: right;\">\n",
       "      <th></th>\n",
       "      <th>JobType</th>\n",
       "      <th>TitleandDesc</th>\n",
       "    </tr>\n",
       "  </thead>\n",
       "  <tbody>\n",
       "    <tr>\n",
       "      <th>0</th>\n",
       "      <td>Jobs – Retail</td>\n",
       "      <td>Commercial Painters needed ASAP at our Dallas/...</td>\n",
       "    </tr>\n",
       "    <tr>\n",
       "      <th>1</th>\n",
       "      <td>Jobs – Retail</td>\n",
       "      <td>Nightclub Jobs -Model/Servers- Cash Daily,Look...</td>\n",
       "    </tr>\n",
       "    <tr>\n",
       "      <th>2</th>\n",
       "      <td>Jobs – Retail</td>\n",
       "      <td>Nightclub Jobs -Model Servers- Cash Daily,* Mo...</td>\n",
       "    </tr>\n",
       "    <tr>\n",
       "      <th>3</th>\n",
       "      <td>Jobs – IT</td>\n",
       "      <td>PRINTING - 1st shift,CDL Class A full time loc...</td>\n",
       "    </tr>\n",
       "    <tr>\n",
       "      <th>4</th>\n",
       "      <td>Jobs – IT</td>\n",
       "      <td>Admin Assistant,Necesito personal de limpieza ...</td>\n",
       "    </tr>\n",
       "    <tr>\n",
       "      <th>...</th>\n",
       "      <td>...</td>\n",
       "      <td>...</td>\n",
       "    </tr>\n",
       "    <tr>\n",
       "      <th>1536</th>\n",
       "      <td>Banking</td>\n",
       "      <td>Price Quoting AnalystElectronics company in Ca...</td>\n",
       "    </tr>\n",
       "    <tr>\n",
       "      <th>1537</th>\n",
       "      <td>Banking</td>\n",
       "      <td>Conltoller/Office Manager at Exciting CompanyR...</td>\n",
       "    </tr>\n",
       "    <tr>\n",
       "      <th>1538</th>\n",
       "      <td>Banking</td>\n",
       "      <td>Accounting &amp; Tax ProfessionalCPA firm is hirin...</td>\n",
       "    </tr>\n",
       "    <tr>\n",
       "      <th>1539</th>\n",
       "      <td>Banking</td>\n",
       "      <td>Licensed Life and Health agenthttps://team.inv...</td>\n",
       "    </tr>\n",
       "    <tr>\n",
       "      <th>1540</th>\n",
       "      <td>Banking</td>\n",
       "      <td>REMCO NOW HIRING $2,600-$3,000 + COMMISSIONS -...</td>\n",
       "    </tr>\n",
       "  </tbody>\n",
       "</table>\n",
       "<p>1541 rows × 2 columns</p>\n",
       "</div>"
      ],
      "text/plain": [
       "            JobType                                       TitleandDesc\n",
       "0     Jobs – Retail  Commercial Painters needed ASAP at our Dallas/...\n",
       "1     Jobs – Retail  Nightclub Jobs -Model/Servers- Cash Daily,Look...\n",
       "2     Jobs – Retail  Nightclub Jobs -Model Servers- Cash Daily,* Mo...\n",
       "3         Jobs – IT  PRINTING - 1st shift,CDL Class A full time loc...\n",
       "4         Jobs – IT  Admin Assistant,Necesito personal de limpieza ...\n",
       "...             ...                                                ...\n",
       "1536        Banking  Price Quoting AnalystElectronics company in Ca...\n",
       "1537        Banking  Conltoller/Office Manager at Exciting CompanyR...\n",
       "1538        Banking  Accounting & Tax ProfessionalCPA firm is hirin...\n",
       "1539        Banking  Licensed Life and Health agenthttps://team.inv...\n",
       "1540        Banking  REMCO NOW HIRING $2,600-$3,000 + COMMISSIONS -...\n",
       "\n",
       "[1541 rows x 2 columns]"
      ]
     },
     "execution_count": 59,
     "metadata": {},
     "output_type": "execute_result"
    }
   ],
   "source": [
    "df.drop(['Index', 'title','url','Posted-Date', 'Job_Description'], axis=1, inplace=True)\n",
    "df"
   ]
  },
  {
   "cell_type": "code",
   "execution_count": 60,
   "id": "43fc2d5f",
   "metadata": {},
   "outputs": [],
   "source": [
    "first_column = df.pop('TitleandDesc')\n",
    "df.insert(0, 'TitleandDesc', first_column)"
   ]
  },
  {
   "cell_type": "code",
   "execution_count": 61,
   "id": "2114084f",
   "metadata": {},
   "outputs": [
    {
     "data": {
      "text/plain": [
       "(1541, 2)"
      ]
     },
     "execution_count": 61,
     "metadata": {},
     "output_type": "execute_result"
    }
   ],
   "source": [
    "df.shape"
   ]
  },
  {
   "cell_type": "code",
   "execution_count": 62,
   "id": "d57a695c",
   "metadata": {},
   "outputs": [
    {
     "data": {
      "text/plain": [
       "100.0"
      ]
     },
     "execution_count": 62,
     "metadata": {},
     "output_type": "execute_result"
    }
   ],
   "source": [
    "total = df['TitleandDesc'].notnull().sum()\n",
    "round((total/len(df)*100),1)"
   ]
  },
  {
   "cell_type": "code",
   "execution_count": 63,
   "id": "0f99a7ad",
   "metadata": {},
   "outputs": [],
   "source": [
    "# df.head(15)"
   ]
  },
  {
   "attachments": {},
   "cell_type": "markdown",
   "id": "150ae07a",
   "metadata": {},
   "source": [
    "### Displaying the class 'JobType'"
   ]
  },
  {
   "cell_type": "code",
   "execution_count": 64,
   "id": "fb7ef4da",
   "metadata": {},
   "outputs": [
    {
     "data": {
      "text/plain": [
       "array([['Jobs – Retail'],\n",
       "       ['Jobs – IT'],\n",
       "       ['Rent – Apartment'],\n",
       "       ['Sell – House'],\n",
       "       ['Banking']], dtype=object)"
      ]
     },
     "execution_count": 64,
     "metadata": {},
     "output_type": "execute_result"
    }
   ],
   "source": [
    "pd.DataFrame(df.JobType.unique()).values"
   ]
  },
  {
   "attachments": {},
   "cell_type": "markdown",
   "id": "2f50ba4b",
   "metadata": {},
   "source": [
    "### Calculating the number of data belonging to the classes"
   ]
  },
  {
   "cell_type": "code",
   "execution_count": 65,
   "id": "397b7e39",
   "metadata": {},
   "outputs": [
    {
     "data": {
      "text/plain": [
       "Counter({'Jobs – Retail': 517,\n",
       "         'Jobs – IT': 91,\n",
       "         'Rent – Apartment': 135,\n",
       "         'Sell – House': 607,\n",
       "         'Banking': 191})"
      ]
     },
     "execution_count": 65,
     "metadata": {},
     "output_type": "execute_result"
    }
   ],
   "source": [
    "from collections import Counter\n",
    "Counter(df[\"JobType\"])"
   ]
  },
  {
   "attachments": {},
   "cell_type": "markdown",
   "id": "f02510c7",
   "metadata": {},
   "source": [
    "### Making ease to feed to Machine Learning\n",
    "Categorical variables such as 'JobType' cannot be directly used in many machine learning algorithms, as they are typically designed to work with numerical data. In order to use the 'JobType' column in these algorithms, it needs to be converted to numerical form. One way to do this is through a process called factorization, which assigns a unique integer value to each unique category. This allows for the categorical data to be used in machine learning algorithms as numerical data.\n",
    "\n",
    "Additionally, creating the dictionaries 'job_to_id' and 'id_to_job' allows for easy mapping between the original categorical values and the numerical values. This will be useful for interpreting the results of the model later on."
   ]
  },
  {
   "cell_type": "code",
   "execution_count": 66,
   "id": "6b54a177",
   "metadata": {},
   "outputs": [
    {
     "data": {
      "text/html": [
       "<div>\n",
       "<style scoped>\n",
       "    .dataframe tbody tr th:only-of-type {\n",
       "        vertical-align: middle;\n",
       "    }\n",
       "\n",
       "    .dataframe tbody tr th {\n",
       "        vertical-align: top;\n",
       "    }\n",
       "\n",
       "    .dataframe thead th {\n",
       "        text-align: right;\n",
       "    }\n",
       "</style>\n",
       "<table border=\"1\" class=\"dataframe\">\n",
       "  <thead>\n",
       "    <tr style=\"text-align: right;\">\n",
       "      <th></th>\n",
       "      <th>TitleandDesc</th>\n",
       "      <th>JobType</th>\n",
       "      <th>Job_Id</th>\n",
       "    </tr>\n",
       "  </thead>\n",
       "  <tbody>\n",
       "    <tr>\n",
       "      <th>0</th>\n",
       "      <td>Commercial Painters needed ASAP at our Dallas/...</td>\n",
       "      <td>Jobs – Retail</td>\n",
       "      <td>0</td>\n",
       "    </tr>\n",
       "    <tr>\n",
       "      <th>1</th>\n",
       "      <td>Nightclub Jobs -Model/Servers- Cash Daily,Look...</td>\n",
       "      <td>Jobs – Retail</td>\n",
       "      <td>0</td>\n",
       "    </tr>\n",
       "    <tr>\n",
       "      <th>2</th>\n",
       "      <td>Nightclub Jobs -Model Servers- Cash Daily,* Mo...</td>\n",
       "      <td>Jobs – Retail</td>\n",
       "      <td>0</td>\n",
       "    </tr>\n",
       "    <tr>\n",
       "      <th>3</th>\n",
       "      <td>PRINTING - 1st shift,CDL Class A full time loc...</td>\n",
       "      <td>Jobs – IT</td>\n",
       "      <td>1</td>\n",
       "    </tr>\n",
       "    <tr>\n",
       "      <th>4</th>\n",
       "      <td>Admin Assistant,Necesito personal de limpieza ...</td>\n",
       "      <td>Jobs – IT</td>\n",
       "      <td>1</td>\n",
       "    </tr>\n",
       "    <tr>\n",
       "      <th>...</th>\n",
       "      <td>...</td>\n",
       "      <td>...</td>\n",
       "      <td>...</td>\n",
       "    </tr>\n",
       "    <tr>\n",
       "      <th>1536</th>\n",
       "      <td>Price Quoting AnalystElectronics company in Ca...</td>\n",
       "      <td>Banking</td>\n",
       "      <td>4</td>\n",
       "    </tr>\n",
       "    <tr>\n",
       "      <th>1537</th>\n",
       "      <td>Conltoller/Office Manager at Exciting CompanyR...</td>\n",
       "      <td>Banking</td>\n",
       "      <td>4</td>\n",
       "    </tr>\n",
       "    <tr>\n",
       "      <th>1538</th>\n",
       "      <td>Accounting &amp; Tax ProfessionalCPA firm is hirin...</td>\n",
       "      <td>Banking</td>\n",
       "      <td>4</td>\n",
       "    </tr>\n",
       "    <tr>\n",
       "      <th>1539</th>\n",
       "      <td>Licensed Life and Health agenthttps://team.inv...</td>\n",
       "      <td>Banking</td>\n",
       "      <td>4</td>\n",
       "    </tr>\n",
       "    <tr>\n",
       "      <th>1540</th>\n",
       "      <td>REMCO NOW HIRING $2,600-$3,000 + COMMISSIONS -...</td>\n",
       "      <td>Banking</td>\n",
       "      <td>4</td>\n",
       "    </tr>\n",
       "  </tbody>\n",
       "</table>\n",
       "<p>1541 rows × 3 columns</p>\n",
       "</div>"
      ],
      "text/plain": [
       "                                           TitleandDesc        JobType  Job_Id\n",
       "0     Commercial Painters needed ASAP at our Dallas/...  Jobs – Retail       0\n",
       "1     Nightclub Jobs -Model/Servers- Cash Daily,Look...  Jobs – Retail       0\n",
       "2     Nightclub Jobs -Model Servers- Cash Daily,* Mo...  Jobs – Retail       0\n",
       "3     PRINTING - 1st shift,CDL Class A full time loc...      Jobs – IT       1\n",
       "4     Admin Assistant,Necesito personal de limpieza ...      Jobs – IT       1\n",
       "...                                                 ...            ...     ...\n",
       "1536  Price Quoting AnalystElectronics company in Ca...        Banking       4\n",
       "1537  Conltoller/Office Manager at Exciting CompanyR...        Banking       4\n",
       "1538  Accounting & Tax ProfessionalCPA firm is hirin...        Banking       4\n",
       "1539  Licensed Life and Health agenthttps://team.inv...        Banking       4\n",
       "1540  REMCO NOW HIRING $2,600-$3,000 + COMMISSIONS -...        Banking       4\n",
       "\n",
       "[1541 rows x 3 columns]"
      ]
     },
     "execution_count": 66,
     "metadata": {},
     "output_type": "execute_result"
    }
   ],
   "source": [
    "df['Job_Id'] = df['JobType'].factorize()[0]\n",
    "job_id_df = df[['JobType', 'Job_Id']].drop_duplicates()\n",
    "\n",
    "\n",
    "# Dictionaries for future use\n",
    "job_to_id = dict(job_id_df.values)\n",
    "id_to_job = dict(job_id_df[['Job_Id', 'JobType']].values)\n",
    "\n",
    "# New dataframe\n",
    "df"
   ]
  },
  {
   "attachments": {},
   "cell_type": "markdown",
   "id": "76f73763",
   "metadata": {},
   "source": [
    "### Checking for missiong values in Dataframe\n",
    "**If there are no mising values, it returns '0'**"
   ]
  },
  {
   "cell_type": "code",
   "execution_count": 67,
   "id": "2b905fb9",
   "metadata": {},
   "outputs": [
    {
     "data": {
      "text/plain": [
       "TitleandDesc    0\n",
       "JobType         0\n",
       "Job_Id          0\n",
       "dtype: int64"
      ]
     },
     "execution_count": 67,
     "metadata": {},
     "output_type": "execute_result"
    }
   ],
   "source": [
    "df.isnull().sum()"
   ]
  },
  {
   "attachments": {},
   "cell_type": "markdown",
   "id": "b63f4b6e",
   "metadata": {},
   "source": [
    "### Distribution of different JobTypes in the dataset.\n"
   ]
  },
  {
   "cell_type": "code",
   "execution_count": 68,
   "id": "114b4bea",
   "metadata": {},
   "outputs": [
    {
     "data": {
      "image/png": "[encoded data removed]",
      "text/plain": [
       "<Figure size 800x600 with 1 Axes>"
      ]
     },
     "metadata": {},
     "output_type": "display_data"
    }
   ],
   "source": [
    "fig = plt.figure(figsize=(8,6))\n",
    "colors = ['red', 'blue', 'green', 'grey', 'darkblue']\n",
    "df.groupby('JobType').TitleandDesc.count().sort_values().plot.barh(\n",
    "    ylim=0, color=colors, title= 'No. of Jobs in Each JobType \\n')\n",
    "plt.xlabel('Number of ocurrences', fontsize = 10);"
   ]
  },
  {
   "attachments": {},
   "cell_type": "markdown",
   "id": "9959c180",
   "metadata": {},
   "source": [
    "### Feature Extraction \n",
    "Using **TfidfVectorizer** from scikit-learn."
   ]
  },
  {
   "cell_type": "code",
   "execution_count": 69,
   "id": "4902b45f",
   "metadata": {},
   "outputs": [
    {
     "name": "stdout",
     "output_type": "stream",
     "text": [
      "Each of the 1541 complaints is represented by 15335 features (TF-IDF score of unigrams and bigrams)\n"
     ]
    }
   ],
   "source": [
    "tfidf = TfidfVectorizer(sublinear_tf=True, min_df=5,\n",
    "                        ngram_range=(1, 3), \n",
    "                        stop_words='english')\n",
    "\n",
    "# We transform each complaint into a vector\n",
    "features = tfidf.fit_transform(df.TitleandDesc).toarray()\n",
    "\n",
    "labels = df.Job_Id\n",
    "\n",
    "print(\"Each of the %d complaints is represented by %d features (TF-IDF score of unigrams and bigrams)\" %(features.shape))"
   ]
  },
  {
   "cell_type": "code",
   "execution_count": 70,
   "id": "4bd3da94",
   "metadata": {},
   "outputs": [],
   "source": [
    "# features"
   ]
  },
  {
   "cell_type": "code",
   "execution_count": 71,
   "id": "cf26b836",
   "metadata": {},
   "outputs": [],
   "source": [
    "# labels"
   ]
  },
  {
   "attachments": {},
   "cell_type": "markdown",
   "id": "8bd71c21",
   "metadata": {},
   "source": [
    "### Generating Unigrams and Bigrams\n",
    "Performing feature selection using chi-squared test on the Tf-Idf features and labels. It prints the top N correlated unigrams, and bigrams for each JobType.\n",
    "This is done to improve the performance of text classification task."
   ]
  },
  {
   "cell_type": "code",
   "execution_count": 72,
   "id": "497b233a",
   "metadata": {},
   "outputs": [
    {
     "name": "stdout",
     "output_type": "stream",
     "text": [
      "\n",
      "==> Banking:\n",
      "  * Most Correlated Unigrams are: quickbooks, bookkeeper, accountant, accounting\n",
      "  * Most Correlated Bigrams are: bookkeeper job, assistant job, senior accountant, accountant job\n",
      "\n",
      "==> Jobs – IT:\n",
      "  * Most Correlated Unigrams are: docx, extensions, pdf, years0\n",
      "  * Most Correlated Bigrams are: extensions supported0, jobs email, best matching, matching jobs\n",
      "\n",
      "==> Jobs – Retail:\n",
      "  * Most Correlated Unigrams are: truck, cdl, driver, drivers\n",
      "  * Most Correlated Bigrams are: direct deposit, owner operators, class cdl, sign bonus\n",
      "\n",
      "==> Rent – Apartment:\n",
      "  * Most Correlated Unigrams are: 2022this, originator, rent, roommates\n",
      "  * Most Correlated Bigrams are: room available, room room, room roommates, roommates available\n",
      "\n",
      "==> Sell – House:\n",
      "  * Most Correlated Unigrams are: floor, bedrooms, large, ny\n",
      "  * Most Correlated Bigrams are: brooklyn ny, dining room, hardwood floors, living room\n"
     ]
    }
   ],
   "source": [
    "N = 4\n",
    "for JobType, Job_Id in sorted(job_to_id.items()):\n",
    "    features_chi2 = chi2(features, labels == Job_Id)\n",
    "    indices = np.argsort(features_chi2[0])\n",
    "    \n",
    "    vocab = {v: k for k, v in tfidf.vocabulary_.items()}\n",
    "    feature_names = [vocab[i] for i in indices]   \n",
    "     \n",
    "    unigrams = [v for v in feature_names if len(v.split(' ')) == 1]\n",
    "    bigrams = [v for v in feature_names if len(v.split(' ')) == 2]\n",
    "\n",
    "    print(\"\\n==> %s:\" %(JobType))\n",
    "    \n",
    "    print(\"  * Most Correlated Unigrams are: %s\" %(', '.join(unigrams[-N:])))\n",
    "    print(\"  * Most Correlated Bigrams are: %s\" %(', '.join(bigrams[-N:])))\n"
   ]
  },
  {
   "cell_type": "code",
   "execution_count": 73,
   "id": "77149f99",
   "metadata": {},
   "outputs": [],
   "source": [
    "X = np.array(df[\"TitleandDesc\"])\n",
    "y = np.array(df[\"JobType\"])"
   ]
  },
  {
   "cell_type": "code",
   "execution_count": 74,
   "id": "b9a23390",
   "metadata": {},
   "outputs": [
    {
     "data": {
      "text/plain": [
       "[['Jobs – Retail'],\n",
       " ['Jobs – IT'],\n",
       " ['Rent – Apartment'],\n",
       " ['Sell – House'],\n",
       " ['Banking']]"
      ]
     },
     "execution_count": 74,
     "metadata": {},
     "output_type": "execute_result"
    }
   ],
   "source": [
    "job_types = pd.DataFrame(df.JobType.unique()).values.tolist()\n",
    "job_types\n"
   ]
  },
  {
   "attachments": {},
   "cell_type": "markdown",
   "id": "7f9c64f9",
   "metadata": {},
   "source": [
    "### Train Test Split\n",
    "Splitting the data into training and testing sets for model evaluation"
   ]
  },
  {
   "cell_type": "code",
   "execution_count": 75,
   "id": "ccc1be1c",
   "metadata": {},
   "outputs": [],
   "source": [
    "X_train, X_test, y_train, y_test = train_test_split(X, y, test_size=0.2, random_state=45)"
   ]
  },
  {
   "attachments": {},
   "cell_type": "markdown",
   "id": "4a51f009",
   "metadata": {},
   "source": [
    "### OneVsRestClassifier \n",
    "The OneVsRestClassifier is a class in scikit-learn that allows for multi-label classification by training a binary classifier for each label separately, and then using these binary classifiers to make predictions for new instances. It is used for multi-class problems.\n"
   ]
  },
  {
   "cell_type": "code",
   "execution_count": 76,
   "id": "d6d9a81a",
   "metadata": {},
   "outputs": [],
   "source": [
    "#pipeline of feature engineering and model\n",
    "model = Pipeline([('vectorizer', CountVectorizer()),\n",
    " ('tfidf', TfidfTransformer()),\n",
    " ('clf', OneVsRestClassifier(LinearSVC(class_weight='balanced')))])\n",
    "#the class_weight=\"balanced\" option tries to remove the biasedness of model towards majority sample\n"
   ]
  },
  {
   "attachments": {},
   "cell_type": "markdown",
   "id": "cee40622",
   "metadata": {},
   "source": [
    "### Training the Text Classification Model on the training data"
   ]
  },
  {
   "cell_type": "code",
   "execution_count": 77,
   "id": "e6ee7357",
   "metadata": {
    "scrolled": false
   },
   "outputs": [
    {
     "data": {
      "text/html": [
       "<style>#sk-container-id-2 {color: black;background-color: white;}#sk-container-id-2 pre{padding: 0;}#sk-container-id-2 div.sk-toggleable {background-color: white;}#sk-container-id-2 label.sk-toggleable__label {cursor: pointer;display: block;width: 100%;margin-bottom: 0;padding: 0.3em;box-sizing: border-box;text-align: center;}#sk-container-id-2 label.sk-toggleable__label-arrow:before {content: \"▸\";float: left;margin-right: 0.25em;color: #696969;}#sk-container-id-2 label.sk-toggleable__label-arrow:hover:before {color: black;}#sk-container-id-2 div.sk-estimator:hover label.sk-toggleable__label-arrow:before {color: black;}#sk-container-id-2 div.sk-toggleable__content {max-height: 0;max-width: 0;overflow: hidden;text-align: left;background-color: #f0f8ff;}#sk-container-id-2 div.sk-toggleable__content pre {margin: 0.2em;color: black;border-radius: 0.25em;background-color: #f0f8ff;}#sk-container-id-2 input.sk-toggleable__control:checked~div.sk-toggleable__content {max-height: 200px;max-width: 100%;overflow: auto;}#sk-container-id-2 input.sk-toggleable__control:checked~label.sk-toggleable__label-arrow:before {content: \"▾\";}#sk-container-id-2 div.sk-estimator input.sk-toggleable__control:checked~label.sk-toggleable__label {background-color: #d4ebff;}#sk-container-id-2 div.sk-label input.sk-toggleable__control:checked~label.sk-toggleable__label {background-color: #d4ebff;}#sk-container-id-2 input.sk-hidden--visually {border: 0;clip: rect(1px 1px 1px 1px);clip: rect(1px, 1px, 1px, 1px);height: 1px;margin: -1px;overflow: hidden;padding: 0;position: absolute;width: 1px;}#sk-container-id-2 div.sk-estimator {font-family: monospace;background-color: #f0f8ff;border: 1px dotted black;border-radius: 0.25em;box-sizing: border-box;margin-bottom: 0.5em;}#sk-container-id-2 div.sk-estimator:hover {background-color: #d4ebff;}#sk-container-id-2 div.sk-parallel-item::after {content: \"\";width: 100%;border-bottom: 1px solid gray;flex-grow: 1;}#sk-container-id-2 div.sk-label:hover label.sk-toggleable__label {background-color: #d4ebff;}#sk-container-id-2 div.sk-serial::before {content: \"\";position: absolute;border-left: 1px solid gray;box-sizing: border-box;top: 0;bottom: 0;left: 50%;z-index: 0;}#sk-container-id-2 div.sk-serial {display: flex;flex-direction: column;align-items: center;background-color: white;padding-right: 0.2em;padding-left: 0.2em;position: relative;}#sk-container-id-2 div.sk-item {position: relative;z-index: 1;}#sk-container-id-2 div.sk-parallel {display: flex;align-items: stretch;justify-content: center;background-color: white;position: relative;}#sk-container-id-2 div.sk-item::before, #sk-container-id-2 div.sk-parallel-item::before {content: \"\";position: absolute;border-left: 1px solid gray;box-sizing: border-box;top: 0;bottom: 0;left: 50%;z-index: -1;}#sk-container-id-2 div.sk-parallel-item {display: flex;flex-direction: column;z-index: 1;position: relative;background-color: white;}#sk-container-id-2 div.sk-parallel-item:first-child::after {align-self: flex-end;width: 50%;}#sk-container-id-2 div.sk-parallel-item:last-child::after {align-self: flex-start;width: 50%;}#sk-container-id-2 div.sk-parallel-item:only-child::after {width: 0;}#sk-container-id-2 div.sk-dashed-wrapped {border: 1px dashed gray;margin: 0 0.4em 0.5em 0.4em;box-sizing: border-box;padding-bottom: 0.4em;background-color: white;}#sk-container-id-2 div.sk-label label {font-family: monospace;font-weight: bold;display: inline-block;line-height: 1.2em;}#sk-container-id-2 div.sk-label-container {text-align: center;}#sk-container-id-2 div.sk-container {/* jupyter's `normalize.less` sets `[hidden] { display: none; }` but bootstrap.min.css set `[hidden] { display: none !important; }` so we also need the `!important` here to be able to override the default hidden behavior on the sphinx rendered scikit-learn.org. See: https://github.com/scikit-learn/scikit-learn/issues/21755 */display: inline-block !important;position: relative;}#sk-container-id-2 div.sk-text-repr-fallback {display: none;}</style><div id=\"sk-container-id-2\" class=\"sk-top-container\"><div class=\"sk-text-repr-fallback\"><pre>Pipeline(steps=[(&#x27;vectorizer&#x27;, CountVectorizer()),\n",
       "                (&#x27;tfidf&#x27;, TfidfTransformer()),\n",
       "                (&#x27;clf&#x27;,\n",
       "                 OneVsRestClassifier(estimator=LinearSVC(class_weight=&#x27;balanced&#x27;)))])</pre><b>In a Jupyter environment, please rerun this cell to show the HTML representation or trust the notebook. <br />On GitHub, the HTML representation is unable to render, please try loading this page with nbviewer.org.</b></div><div class=\"sk-container\" hidden><div class=\"sk-item sk-dashed-wrapped\"><div class=\"sk-label-container\"><div class=\"sk-label sk-toggleable\"><input class=\"sk-toggleable__control sk-hidden--visually\" id=\"sk-estimator-id-7\" type=\"checkbox\" ><label for=\"sk-estimator-id-7\" class=\"sk-toggleable__label sk-toggleable__label-arrow\">Pipeline</label><div class=\"sk-toggleable__content\"><pre>Pipeline(steps=[(&#x27;vectorizer&#x27;, CountVectorizer()),\n",
       "                (&#x27;tfidf&#x27;, TfidfTransformer()),\n",
       "                (&#x27;clf&#x27;,\n",
       "                 OneVsRestClassifier(estimator=LinearSVC(class_weight=&#x27;balanced&#x27;)))])</pre></div></div></div><div class=\"sk-serial\"><div class=\"sk-item\"><div class=\"sk-estimator sk-toggleable\"><input class=\"sk-toggleable__control sk-hidden--visually\" id=\"sk-estimator-id-8\" type=\"checkbox\" ><label for=\"sk-estimator-id-8\" class=\"sk-toggleable__label sk-toggleable__label-arrow\">CountVectorizer</label><div class=\"sk-toggleable__content\"><pre>CountVectorizer()</pre></div></div></div><div class=\"sk-item\"><div class=\"sk-estimator sk-toggleable\"><input class=\"sk-toggleable__control sk-hidden--visually\" id=\"sk-estimator-id-9\" type=\"checkbox\" ><label for=\"sk-estimator-id-9\" class=\"sk-toggleable__label sk-toggleable__label-arrow\">TfidfTransformer</label><div class=\"sk-toggleable__content\"><pre>TfidfTransformer()</pre></div></div></div><div class=\"sk-item sk-dashed-wrapped\"><div class=\"sk-label-container\"><div class=\"sk-label sk-toggleable\"><input class=\"sk-toggleable__control sk-hidden--visually\" id=\"sk-estimator-id-10\" type=\"checkbox\" ><label for=\"sk-estimator-id-10\" class=\"sk-toggleable__label sk-toggleable__label-arrow\">clf: OneVsRestClassifier</label><div class=\"sk-toggleable__content\"><pre>OneVsRestClassifier(estimator=LinearSVC(class_weight=&#x27;balanced&#x27;))</pre></div></div></div><div class=\"sk-parallel\"><div class=\"sk-parallel-item\"><div class=\"sk-item\"><div class=\"sk-label-container\"><div class=\"sk-label sk-toggleable\"><input class=\"sk-toggleable__control sk-hidden--visually\" id=\"sk-estimator-id-11\" type=\"checkbox\" ><label for=\"sk-estimator-id-11\" class=\"sk-toggleable__label sk-toggleable__label-arrow\">estimator: LinearSVC</label><div class=\"sk-toggleable__content\"><pre>LinearSVC(class_weight=&#x27;balanced&#x27;)</pre></div></div></div><div class=\"sk-serial\"><div class=\"sk-item\"><div class=\"sk-estimator sk-toggleable\"><input class=\"sk-toggleable__control sk-hidden--visually\" id=\"sk-estimator-id-12\" type=\"checkbox\" ><label for=\"sk-estimator-id-12\" class=\"sk-toggleable__label sk-toggleable__label-arrow\">LinearSVC</label><div class=\"sk-toggleable__content\"><pre>LinearSVC(class_weight=&#x27;balanced&#x27;)</pre></div></div></div></div></div></div></div></div></div></div></div></div>"
      ],
      "text/plain": [
       "Pipeline(steps=[('vectorizer', CountVectorizer()),\n",
       "                ('tfidf', TfidfTransformer()),\n",
       "                ('clf',\n",
       "                 OneVsRestClassifier(estimator=LinearSVC(class_weight='balanced')))])"
      ]
     },
     "execution_count": 77,
     "metadata": {},
     "output_type": "execute_result"
    }
   ],
   "source": [
    "#fit model with training data\n",
    "model.fit(X_train, y_train)\n"
   ]
  },
  {
   "attachments": {},
   "cell_type": "markdown",
   "id": "80e76826",
   "metadata": {},
   "source": [
    "### Confusion Matrix\n",
    "A confusion matrix is a table that is used to define the performance of a classification algorithm. It gives an idea of how well the algorithm is classifying the problem by comparing the predicted values with the true values in the test set."
   ]
  },
  {
   "cell_type": "code",
   "execution_count": 78,
   "id": "609b763e",
   "metadata": {
    "scrolled": false
   },
   "outputs": [
    {
     "data": {
      "image/png": "[encoded data removed]",
      "text/plain": [
       "<Figure size 600x600 with 2 Axes>"
      ]
     },
     "metadata": {},
     "output_type": "display_data"
    }
   ],
   "source": [
    "y_pred = model.predict(X_test)\n",
    "conf_mat = confusion_matrix(y_test, y_pred)\n",
    "fig, ax = plt.subplots(figsize=(6,6))\n",
    "sns.heatmap(\n",
    "    conf_mat, \n",
    "    annot=True, \n",
    "    cmap=\"Blues\", \n",
    "    fmt='d',\n",
    "    xticklabels=job_id_df.JobType.values, \n",
    "    yticklabels=job_id_df.JobType.values\n",
    ")\n",
    "plt.ylabel('Actual')\n",
    "plt.xlabel('Predicted')\n",
    "plt.title(\"CONFUSION MATRIX \\n\", size=16);"
   ]
  },
  {
   "attachments": {},
   "cell_type": "markdown",
   "id": "908c83df",
   "metadata": {},
   "source": [
    "### Classification Report\n",
    "It is a summary of the performance of a classifier for a classification problem. It displays several evaluation metrics for each class, including precision, recall, f1-score and support. It is a text report that contains several evaluation metrics for each class and it helps to understand the performance of a classifier.\n"
   ]
  },
  {
   "cell_type": "code",
   "execution_count": 79,
   "id": "d33f2ecd",
   "metadata": {},
   "outputs": [
    {
     "name": "stdout",
     "output_type": "stream",
     "text": [
      "\t\t\tCLASSIFICATIION METRICS\n",
      "\n",
      "                  precision    recall  f1-score   support\n",
      "\n",
      "   Jobs – Retail       0.98      0.89      0.93        46\n",
      "       Jobs – IT       0.93      0.82      0.87        17\n",
      "Rent – Apartment       0.94      0.95      0.95       101\n",
      "    Sell – House       0.86      0.96      0.91        26\n",
      "         Banking       0.98      0.99      0.98       119\n",
      "\n",
      "        accuracy                           0.95       309\n",
      "       macro avg       0.94      0.92      0.93       309\n",
      "    weighted avg       0.95      0.95      0.95       309\n",
      "\n"
     ]
    }
   ],
   "source": [
    "print('\\t\\t\\tCLASSIFICATIION METRICS\\n')\n",
    "print(classification_report(\n",
    "        y_test, \n",
    "        y_pred, \n",
    "        target_names = df['JobType'].unique()\n",
    "    )\n",
    ")"
   ]
  },
  {
   "attachments": {},
   "cell_type": "markdown",
   "id": "6b2b2569",
   "metadata": {},
   "source": [
    "### Save the model"
   ]
  },
  {
   "cell_type": "code",
   "execution_count": 80,
   "id": "830defc1",
   "metadata": {},
   "outputs": [],
   "source": [
    "import pickle\n",
    "filename = '/home/kushal/Documents/projects/tf-idf-implementation/model/adv_model.sav'\n",
    "# pickle.dump(model, open(filename, 'wb'))"
   ]
  },
  {
   "attachments": {},
   "cell_type": "markdown",
   "id": "239e012e",
   "metadata": {},
   "source": [
    "### Load The Model"
   ]
  },
  {
   "cell_type": "code",
   "execution_count": 81,
   "id": "b814950c",
   "metadata": {},
   "outputs": [],
   "source": [
    "loaded_model = pickle.load(open(filename, 'rb'))"
   ]
  },
  {
   "attachments": {},
   "cell_type": "markdown",
   "id": "7b15289e",
   "metadata": {},
   "source": [
    "### Accuracy"
   ]
  },
  {
   "cell_type": "code",
   "execution_count": 82,
   "id": "64094d1a",
   "metadata": {},
   "outputs": [
    {
     "name": "stdout",
     "output_type": "stream",
     "text": [
      "The Accuracy of the Classification is:  95.146%\n"
     ]
    }
   ],
   "source": [
    "result = loaded_model.score(X_test, y_test)\n",
    "print(f\"The Accuracy of the Classification is:  {round(result*100, 3)}%\")"
   ]
  },
  {
   "attachments": {},
   "cell_type": "markdown",
   "id": "7c4634c3",
   "metadata": {},
   "source": [
    "### Sample Input and Testing The Model"
   ]
  },
  {
   "cell_type": "code",
   "execution_count": 83,
   "id": "5b6aed07",
   "metadata": {},
   "outputs": [
    {
     "name": "stdout",
     "output_type": "stream",
     "text": [
      "We are seeking a highly motivated Retail Sales Associate to join our team. The ideal candidate will have experience working in a retail environment and will be passionate about providing excellent customer service.\n"
     ]
    },
    {
     "data": {
      "text/plain": [
       "'Jobs – Retail'"
      ]
     },
     "execution_count": 83,
     "metadata": {},
     "output_type": "execute_result"
    }
   ],
   "source": [
    "job = input(\"Enter the text that we need to classify\")\n",
    "print(job)\n",
    "model.predict([job])[0]"
   ]
  }
 ],
 "metadata": {
  "kernelspec": {
   "display_name": "Python 3",
   "language": "python",
   "name": "python3"
  },
  "language_info": {
   "codemirror_mode": {
    "name": "ipython",
    "version": 3
   },
   "file_extension": ".py",
   "mimetype": "text/x-python",
   "name": "python",
   "nbconvert_exporter": "python",
   "pygments_lexer": "ipython3",
   "version": "3.10.6"
  },
  "vscode": {
   "interpreter": {
    "hash": "916dbcbb3f70747c44a77c7bcd40155683ae19c65e1c03b4aa3499c5328201f1"
   }
  }
 },
 "nbformat": 4,
 "nbformat_minor": 5
}
