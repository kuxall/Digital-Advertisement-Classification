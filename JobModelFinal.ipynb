{
 "cells": [
  {
   "cell_type": "code",
   "execution_count": 1,
   "id": "bea6092e",
   "metadata": {},
   "outputs": [],
   "source": [
    "import numpy as np\n",
    "import pandas as pd\n",
    "import matplotlib.pyplot as plt\n",
    "import seaborn as sns # used for plot interactive graph. \n",
    "import matplotlib.pyplot as plt\n",
    "import seaborn as sns\n",
    "\n",
    "from sklearn.feature_extraction.text import CountVectorizer\n",
    "from sklearn.multiclass import OneVsRestClassifier\n",
    "from sklearn.preprocessing import OneHotEncoder\n",
    "from sklearn.pipeline import Pipeline\n",
    "\n",
    "from sklearn.feature_extraction.text import TfidfVectorizer\n",
    "from sklearn.feature_selection import chi2\n",
    "from sklearn.model_selection import train_test_split\n",
    "from sklearn.feature_extraction.text import TfidfTransformer\n",
    "\n",
    "from sklearn.svm import LinearSVC\n",
    "from sklearn.model_selection import cross_val_score\n",
    "from sklearn.metrics import confusion_matrix\n",
    "from sklearn.metrics import classification_report\n",
    "\n",
    "\n",
    "import warnings\n",
    "warnings.filterwarnings(\"ignore\", category=UserWarning)\n",
    "warnings.filterwarnings(\"ignore\", category=FutureWarning)\n"
   ]
  },
  {
   "cell_type": "code",
   "execution_count": 2,
   "id": "b86a63cc",
   "metadata": {},
   "outputs": [],
   "source": [
    "df = pd.read_excel(\"F:/TfIdfVectorizer/ConcatenatedDigitalAdData.xlsx\")\n"
   ]
  },
  {
   "cell_type": "code",
   "execution_count": 3,
   "id": "097801cf",
   "metadata": {},
   "outputs": [],
   "source": [
    "df[\"TitleandDesc\"] = df[\"title\"] + df[\"Job_Description\"]"
   ]
  },
  {
   "cell_type": "code",
   "execution_count": 4,
   "id": "79ff1d2f",
   "metadata": {},
   "outputs": [],
   "source": [
    "# df"
   ]
  },
  {
   "cell_type": "code",
   "execution_count": 5,
   "id": "2cf6a9c2",
   "metadata": {},
   "outputs": [
    {
     "data": {
      "text/plain": [
       "0       Commercial Painters needed ASAP at our Dallas/...\n",
       "1       Nightclub Jobs -Model/Servers- Cash Daily,Look...\n",
       "2       Nightclub Jobs -Model Servers- Cash Daily,* Mo...\n",
       "3       PRINTING - 1st shift,CDL Class A full time loc...\n",
       "4       Admin Assistant,Necesito personal de limpieza ...\n",
       "                              ...                        \n",
       "1536    Price Quoting AnalystElectronics company in Ca...\n",
       "1537    Conltoller/Office Manager at Exciting CompanyR...\n",
       "1538    Accounting & Tax ProfessionalCPA firm is hirin...\n",
       "1539    Licensed Life and Health agenthttps://team.inv...\n",
       "1540    REMCO NOW HIRING $2,600-$3,000 + COMMISSIONS -...\n",
       "Name: TitleandDesc, Length: 1541, dtype: object"
      ]
     },
     "execution_count": 5,
     "metadata": {},
     "output_type": "execute_result"
    }
   ],
   "source": [
    "df[\"TitleandDesc\"]"
   ]
  },
  {
   "cell_type": "code",
   "execution_count": 6,
   "id": "1903214d",
   "metadata": {},
   "outputs": [],
   "source": [
    "df\n",
    "df.drop(['Index', 'title','url','Posted-Date', 'Job_Description'], axis=1, inplace=True)"
   ]
  },
  {
   "cell_type": "code",
   "execution_count": 7,
   "id": "05aa1c38",
   "metadata": {},
   "outputs": [],
   "source": [
    "# df"
   ]
  },
  {
   "cell_type": "code",
   "execution_count": 8,
   "id": "43fc2d5f",
   "metadata": {},
   "outputs": [],
   "source": [
    "first_column = df.pop('TitleandDesc')\n",
    "df.insert(0, 'TitleandDesc', first_column)"
   ]
  },
  {
   "cell_type": "code",
   "execution_count": 9,
   "id": "2114084f",
   "metadata": {},
   "outputs": [
    {
     "data": {
      "text/plain": [
       "(1541, 2)"
      ]
     },
     "execution_count": 9,
     "metadata": {},
     "output_type": "execute_result"
    }
   ],
   "source": [
    "df.shape"
   ]
  },
  {
   "cell_type": "code",
   "execution_count": 10,
   "id": "d57a695c",
   "metadata": {},
   "outputs": [
    {
     "data": {
      "text/plain": [
       "100.0"
      ]
     },
     "execution_count": 10,
     "metadata": {},
     "output_type": "execute_result"
    }
   ],
   "source": [
    "total = df['TitleandDesc'].notnull().sum()\n",
    "round((total/len(df)*100),1)"
   ]
  },
  {
   "cell_type": "code",
   "execution_count": 11,
   "id": "0f99a7ad",
   "metadata": {},
   "outputs": [],
   "source": [
    "# df.head(15)"
   ]
  },
  {
   "cell_type": "code",
   "execution_count": 12,
   "id": "fb7ef4da",
   "metadata": {},
   "outputs": [
    {
     "data": {
      "text/plain": [
       "array([['Jobs – Retail'],\n",
       "       ['Jobs – IT'],\n",
       "       ['Rent – Apartment'],\n",
       "       ['Sell – House'],\n",
       "       ['Banking']], dtype=object)"
      ]
     },
     "execution_count": 12,
     "metadata": {},
     "output_type": "execute_result"
    }
   ],
   "source": [
    "pd.DataFrame(df.JobType.unique()).values"
   ]
  },
  {
   "cell_type": "code",
   "execution_count": 13,
   "id": "397b7e39",
   "metadata": {},
   "outputs": [
    {
     "data": {
      "text/plain": [
       "Counter({'Jobs – Retail': 517,\n",
       "         'Jobs – IT': 91,\n",
       "         'Rent – Apartment': 135,\n",
       "         'Sell – House': 607,\n",
       "         'Banking': 191})"
      ]
     },
     "execution_count": 13,
     "metadata": {},
     "output_type": "execute_result"
    }
   ],
   "source": [
    "from collections import Counter\n",
    "Counter(df[\"JobType\"])"
   ]
  },
  {
   "cell_type": "code",
   "execution_count": null,
   "id": "52acc5e5",
   "metadata": {},
   "outputs": [],
   "source": []
  },
  {
   "cell_type": "code",
   "execution_count": 14,
   "id": "6b54a177",
   "metadata": {},
   "outputs": [
    {
     "data": {
      "text/html": [
       "<div>\n",
       "<style scoped>\n",
       "    .dataframe tbody tr th:only-of-type {\n",
       "        vertical-align: middle;\n",
       "    }\n",
       "\n",
       "    .dataframe tbody tr th {\n",
       "        vertical-align: top;\n",
       "    }\n",
       "\n",
       "    .dataframe thead th {\n",
       "        text-align: right;\n",
       "    }\n",
       "</style>\n",
       "<table border=\"1\" class=\"dataframe\">\n",
       "  <thead>\n",
       "    <tr style=\"text-align: right;\">\n",
       "      <th></th>\n",
       "      <th>TitleandDesc</th>\n",
       "      <th>JobType</th>\n",
       "      <th>Job_Id</th>\n",
       "    </tr>\n",
       "  </thead>\n",
       "  <tbody>\n",
       "    <tr>\n",
       "      <th>0</th>\n",
       "      <td>Commercial Painters needed ASAP at our Dallas/...</td>\n",
       "      <td>Jobs – Retail</td>\n",
       "      <td>0</td>\n",
       "    </tr>\n",
       "    <tr>\n",
       "      <th>1</th>\n",
       "      <td>Nightclub Jobs -Model/Servers- Cash Daily,Look...</td>\n",
       "      <td>Jobs – Retail</td>\n",
       "      <td>0</td>\n",
       "    </tr>\n",
       "    <tr>\n",
       "      <th>2</th>\n",
       "      <td>Nightclub Jobs -Model Servers- Cash Daily,* Mo...</td>\n",
       "      <td>Jobs – Retail</td>\n",
       "      <td>0</td>\n",
       "    </tr>\n",
       "    <tr>\n",
       "      <th>3</th>\n",
       "      <td>PRINTING - 1st shift,CDL Class A full time loc...</td>\n",
       "      <td>Jobs – IT</td>\n",
       "      <td>1</td>\n",
       "    </tr>\n",
       "    <tr>\n",
       "      <th>4</th>\n",
       "      <td>Admin Assistant,Necesito personal de limpieza ...</td>\n",
       "      <td>Jobs – IT</td>\n",
       "      <td>1</td>\n",
       "    </tr>\n",
       "    <tr>\n",
       "      <th>...</th>\n",
       "      <td>...</td>\n",
       "      <td>...</td>\n",
       "      <td>...</td>\n",
       "    </tr>\n",
       "    <tr>\n",
       "      <th>1536</th>\n",
       "      <td>Price Quoting AnalystElectronics company in Ca...</td>\n",
       "      <td>Banking</td>\n",
       "      <td>4</td>\n",
       "    </tr>\n",
       "    <tr>\n",
       "      <th>1537</th>\n",
       "      <td>Conltoller/Office Manager at Exciting CompanyR...</td>\n",
       "      <td>Banking</td>\n",
       "      <td>4</td>\n",
       "    </tr>\n",
       "    <tr>\n",
       "      <th>1538</th>\n",
       "      <td>Accounting &amp; Tax ProfessionalCPA firm is hirin...</td>\n",
       "      <td>Banking</td>\n",
       "      <td>4</td>\n",
       "    </tr>\n",
       "    <tr>\n",
       "      <th>1539</th>\n",
       "      <td>Licensed Life and Health agenthttps://team.inv...</td>\n",
       "      <td>Banking</td>\n",
       "      <td>4</td>\n",
       "    </tr>\n",
       "    <tr>\n",
       "      <th>1540</th>\n",
       "      <td>REMCO NOW HIRING $2,600-$3,000 + COMMISSIONS -...</td>\n",
       "      <td>Banking</td>\n",
       "      <td>4</td>\n",
       "    </tr>\n",
       "  </tbody>\n",
       "</table>\n",
       "<p>1541 rows × 3 columns</p>\n",
       "</div>"
      ],
      "text/plain": [
       "                                           TitleandDesc        JobType  Job_Id\n",
       "0     Commercial Painters needed ASAP at our Dallas/...  Jobs – Retail       0\n",
       "1     Nightclub Jobs -Model/Servers- Cash Daily,Look...  Jobs – Retail       0\n",
       "2     Nightclub Jobs -Model Servers- Cash Daily,* Mo...  Jobs – Retail       0\n",
       "3     PRINTING - 1st shift,CDL Class A full time loc...      Jobs – IT       1\n",
       "4     Admin Assistant,Necesito personal de limpieza ...      Jobs – IT       1\n",
       "...                                                 ...            ...     ...\n",
       "1536  Price Quoting AnalystElectronics company in Ca...        Banking       4\n",
       "1537  Conltoller/Office Manager at Exciting CompanyR...        Banking       4\n",
       "1538  Accounting & Tax ProfessionalCPA firm is hirin...        Banking       4\n",
       "1539  Licensed Life and Health agenthttps://team.inv...        Banking       4\n",
       "1540  REMCO NOW HIRING $2,600-$3,000 + COMMISSIONS -...        Banking       4\n",
       "\n",
       "[1541 rows x 3 columns]"
      ]
     },
     "execution_count": 14,
     "metadata": {},
     "output_type": "execute_result"
    }
   ],
   "source": [
    "df['Job_Id'] = df['JobType'].factorize()[0]\n",
    "job_id_df = df[['JobType', 'Job_Id']].drop_duplicates()\n",
    "\n",
    "\n",
    "# Dictionaries for future use\n",
    "job_to_id = dict(job_id_df.values)\n",
    "id_to_job = dict(job_id_df[['Job_Id', 'JobType']].values)\n",
    "\n",
    "# New dataframe\n",
    "df"
   ]
  },
  {
   "cell_type": "code",
   "execution_count": 15,
   "id": "2b905fb9",
   "metadata": {},
   "outputs": [
    {
     "data": {
      "text/plain": [
       "TitleandDesc    0\n",
       "JobType         0\n",
       "Job_Id          0\n",
       "dtype: int64"
      ]
     },
     "execution_count": 15,
     "metadata": {},
     "output_type": "execute_result"
    }
   ],
   "source": [
    "df.isnull().sum()"
   ]
  },
  {
   "cell_type": "code",
   "execution_count": 16,
   "id": "114b4bea",
   "metadata": {},
   "outputs": [
    {
     "data": {
      "image/png": "[encoded data removed]",
      "text/plain": [
       "<Figure size 576x432 with 1 Axes>"
      ]
     },
     "metadata": {
      "needs_background": "light"
     },
     "output_type": "display_data"
    }
   ],
   "source": [
    "fig = plt.figure(figsize=(8,6))\n",
    "colors = ['grey', 'grey', 'grey', 'darkblue', 'darkblue']\n",
    "df.groupby('JobType').TitleandDesc.count().sort_values().plot.barh(\n",
    "    ylim=0, color=colors, title= 'No. of Jobs in Each JobType \\n')\n",
    "plt.xlabel('Number of ocurrences', fontsize = 10);"
   ]
  },
  {
   "cell_type": "code",
   "execution_count": 17,
   "id": "4902b45f",
   "metadata": {},
   "outputs": [
    {
     "name": "stdout",
     "output_type": "stream",
     "text": [
      "Each of the 1541 complaints is represented by 15335 features (TF-IDF score of unigrams and bigrams)\n"
     ]
    }
   ],
   "source": [
    "tfidf = TfidfVectorizer(sublinear_tf=True, min_df=5,\n",
    "                        ngram_range=(1, 3), \n",
    "                        stop_words='english')\n",
    "\n",
    "# We transform each complaint into a vector\n",
    "features = tfidf.fit_transform(df.TitleandDesc).toarray()\n",
    "\n",
    "labels = df.Job_Id\n",
    "\n",
    "print(\"Each of the %d complaints is represented by %d features (TF-IDF score of unigrams and bigrams)\" %(features.shape))"
   ]
  },
  {
   "cell_type": "code",
   "execution_count": 18,
   "id": "4bd3da94",
   "metadata": {},
   "outputs": [],
   "source": [
    "# features"
   ]
  },
  {
   "cell_type": "code",
   "execution_count": 19,
   "id": "cf26b836",
   "metadata": {},
   "outputs": [],
   "source": [
    "# labels"
   ]
  },
  {
   "cell_type": "markdown",
   "id": "8bd71c21",
   "metadata": {},
   "source": [
    "# Generating Uni and Bigrams"
   ]
  },
  {
   "cell_type": "code",
   "execution_count": 20,
   "id": "497b233a",
   "metadata": {},
   "outputs": [
    {
     "name": "stdout",
     "output_type": "stream",
     "text": [
      "\n",
      "==> Banking:\n",
      "  * Most Correlated Unigrams are: accounts, quickbooks, bookkeeper, accountant, accounting\n",
      "  * Most Correlated Bigrams are: accounts receivable, bookkeeper job, assistant job, senior accountant, accountant job\n",
      "  * Most Correlated Trigrams are: resolve guest complaints, cashier job jobs, night auditor 20, job jobs available, senior accountant job\n",
      "\n",
      "==> Jobs – IT:\n",
      "  * Most Correlated Unigrams are: supported0, docx, extensions, pdf, years0\n",
      "  * Most Correlated Bigrams are: docx pdf, extensions supported0, jobs email, best matching, matching jobs\n",
      "  * Most Correlated Trigrams are: mandatoryxxneed job hiring, pdf extensions supported0, docx pdf extensions, best matching jobs, matching jobs email\n",
      "\n",
      "==> Jobs – Retail:\n",
      "  * Most Correlated Unigrams are: pay, truck, cdl, driver, drivers\n",
      "  * Most Correlated Bigrams are: home time, direct deposit, owner operators, class cdl, sign bonus\n",
      "  * Most Correlated Trigrams are: class cdl drivers, valid driver license, toby using form, cdl truck driver, 000 sign bonus\n",
      "\n",
      "==> Rent – Apartment:\n",
      "  * Most Correlated Unigrams are: furnished, 2022this, originator, rent, roommates\n",
      "  * Most Correlated Bigrams are: 2022this posting, room available, room room, room roommates, roommates available\n",
      "  * Most Correlated Trigrams are: respond toby using, toby using form, 2022this posting expire, room room roommates, room roommates available\n",
      "\n",
      "==> Sell – House:\n",
      "  * Most Correlated Unigrams are: living, floor, bedrooms, large, ny\n",
      "  * Most Correlated Bigrams are: stainless steel, brooklyn ny, dining room, hardwood floors, living room\n",
      "  * Most Correlated Trigrams are: toby using form, room dining room, living room dining, new york ny, stainless steel appliances\n"
     ]
    }
   ],
   "source": [
    "N = 5\n",
    "for JobType, Job_Id in sorted(job_to_id.items()):\n",
    "    features_chi2 = chi2(features, labels == Job_Id)\n",
    "    indices = np.argsort(features_chi2[0])\n",
    "    \n",
    "    feature_names = np.array(tfidf.get_feature_names())[indices]\n",
    "    \n",
    "    unigrams = [v for v in feature_names if len(v.split(' ')) == 1]\n",
    "    bigrams = [v for v in feature_names if len(v.split(' ')) == 2]\n",
    "    trigrams = [v for v in feature_names if len(v.split(' ')) == 3]\n",
    "\n",
    "    print(\"\\n==> %s:\" %(JobType))\n",
    "    \n",
    "    print(\"  * Most Correlated Unigrams are: %s\" %(', '.join(unigrams[-N:])))\n",
    "    print(\"  * Most Correlated Bigrams are: %s\" %(', '.join(bigrams[-N:])))\n",
    "    print(\"  * Most Correlated Trigrams are: %s\" %(', '.join(trigrams[-N:])))"
   ]
  },
  {
   "cell_type": "code",
   "execution_count": 21,
   "id": "77149f99",
   "metadata": {},
   "outputs": [],
   "source": [
    "X = np.array(df[\"TitleandDesc\"])"
   ]
  },
  {
   "cell_type": "code",
   "execution_count": 22,
   "id": "5e08384e",
   "metadata": {},
   "outputs": [],
   "source": [
    "y = np.array(df[\"JobType\"])"
   ]
  },
  {
   "cell_type": "code",
   "execution_count": 23,
   "id": "b9a23390",
   "metadata": {},
   "outputs": [
    {
     "data": {
      "text/plain": [
       "array([['Jobs – Retail'],\n",
       "       ['Jobs – IT'],\n",
       "       ['Rent – Apartment'],\n",
       "       ['Sell – House'],\n",
       "       ['Banking']], dtype=object)"
      ]
     },
     "execution_count": 23,
     "metadata": {},
     "output_type": "execute_result"
    }
   ],
   "source": [
    "pd.DataFrame(df.JobType.unique()).values"
   ]
  },
  {
   "cell_type": "markdown",
   "id": "7f9c64f9",
   "metadata": {},
   "source": [
    "# Train Test Split"
   ]
  },
  {
   "cell_type": "code",
   "execution_count": 24,
   "id": "ccc1be1c",
   "metadata": {},
   "outputs": [],
   "source": [
    "X_train, X_test, y_train, y_test = train_test_split(X, y, test_size=0.2, random_state=45)"
   ]
  },
  {
   "cell_type": "markdown",
   "id": "4a51f009",
   "metadata": {},
   "source": [
    "# OneVsRest Classifier\n",
    "`we can use the OneVsRest classifier concept. The OneVsRest (or one-vs.-all, OvA or OvR, oneagainst-all, OAA) strategy involves training a single classiﬁer per class, with the samples of that class as positive samples and all other samples as negatives. This strategy requires the base classiﬁers to produce a real-valued conﬁdence score for its decision, rather than just a class label; discrete class labels alone can lead to ambiguities, where multiple classes are predicted for a single sample.`"
   ]
  },
  {
   "cell_type": "code",
   "execution_count": 25,
   "id": "d6d9a81a",
   "metadata": {},
   "outputs": [],
   "source": [
    "#pipeline of feature engineering and model\n",
    "model = Pipeline([('vectorizer', CountVectorizer()),\n",
    " ('tfidf', TfidfTransformer()),\n",
    " ('clf', OneVsRestClassifier(LinearSVC(class_weight='balanced')))])\n",
    "#the class_weight=\"balanced\" option tries to remove the biasedness of model towards majority sample\n"
   ]
  },
  {
   "cell_type": "markdown",
   "id": "80e76826",
   "metadata": {},
   "source": [
    "# Confusion Matrix"
   ]
  },
  {
   "cell_type": "code",
   "execution_count": 26,
   "id": "e6ee7357",
   "metadata": {
    "scrolled": false
   },
   "outputs": [
    {
     "data": {
      "text/html": [
       "<style>#sk-container-id-1 {color: black;background-color: white;}#sk-container-id-1 pre{padding: 0;}#sk-container-id-1 div.sk-toggleable {background-color: white;}#sk-container-id-1 label.sk-toggleable__label {cursor: pointer;display: block;width: 100%;margin-bottom: 0;padding: 0.3em;box-sizing: border-box;text-align: center;}#sk-container-id-1 label.sk-toggleable__label-arrow:before {content: \"▸\";float: left;margin-right: 0.25em;color: #696969;}#sk-container-id-1 label.sk-toggleable__label-arrow:hover:before {color: black;}#sk-container-id-1 div.sk-estimator:hover label.sk-toggleable__label-arrow:before {color: black;}#sk-container-id-1 div.sk-toggleable__content {max-height: 0;max-width: 0;overflow: hidden;text-align: left;background-color: #f0f8ff;}#sk-container-id-1 div.sk-toggleable__content pre {margin: 0.2em;color: black;border-radius: 0.25em;background-color: #f0f8ff;}#sk-container-id-1 input.sk-toggleable__control:checked~div.sk-toggleable__content {max-height: 200px;max-width: 100%;overflow: auto;}#sk-container-id-1 input.sk-toggleable__control:checked~label.sk-toggleable__label-arrow:before {content: \"▾\";}#sk-container-id-1 div.sk-estimator input.sk-toggleable__control:checked~label.sk-toggleable__label {background-color: #d4ebff;}#sk-container-id-1 div.sk-label input.sk-toggleable__control:checked~label.sk-toggleable__label {background-color: #d4ebff;}#sk-container-id-1 input.sk-hidden--visually {border: 0;clip: rect(1px 1px 1px 1px);clip: rect(1px, 1px, 1px, 1px);height: 1px;margin: -1px;overflow: hidden;padding: 0;position: absolute;width: 1px;}#sk-container-id-1 div.sk-estimator {font-family: monospace;background-color: #f0f8ff;border: 1px dotted black;border-radius: 0.25em;box-sizing: border-box;margin-bottom: 0.5em;}#sk-container-id-1 div.sk-estimator:hover {background-color: #d4ebff;}#sk-container-id-1 div.sk-parallel-item::after {content: \"\";width: 100%;border-bottom: 1px solid gray;flex-grow: 1;}#sk-container-id-1 div.sk-label:hover label.sk-toggleable__label {background-color: #d4ebff;}#sk-container-id-1 div.sk-serial::before {content: \"\";position: absolute;border-left: 1px solid gray;box-sizing: border-box;top: 0;bottom: 0;left: 50%;z-index: 0;}#sk-container-id-1 div.sk-serial {display: flex;flex-direction: column;align-items: center;background-color: white;padding-right: 0.2em;padding-left: 0.2em;position: relative;}#sk-container-id-1 div.sk-item {position: relative;z-index: 1;}#sk-container-id-1 div.sk-parallel {display: flex;align-items: stretch;justify-content: center;background-color: white;position: relative;}#sk-container-id-1 div.sk-item::before, #sk-container-id-1 div.sk-parallel-item::before {content: \"\";position: absolute;border-left: 1px solid gray;box-sizing: border-box;top: 0;bottom: 0;left: 50%;z-index: -1;}#sk-container-id-1 div.sk-parallel-item {display: flex;flex-direction: column;z-index: 1;position: relative;background-color: white;}#sk-container-id-1 div.sk-parallel-item:first-child::after {align-self: flex-end;width: 50%;}#sk-container-id-1 div.sk-parallel-item:last-child::after {align-self: flex-start;width: 50%;}#sk-container-id-1 div.sk-parallel-item:only-child::after {width: 0;}#sk-container-id-1 div.sk-dashed-wrapped {border: 1px dashed gray;margin: 0 0.4em 0.5em 0.4em;box-sizing: border-box;padding-bottom: 0.4em;background-color: white;}#sk-container-id-1 div.sk-label label {font-family: monospace;font-weight: bold;display: inline-block;line-height: 1.2em;}#sk-container-id-1 div.sk-label-container {text-align: center;}#sk-container-id-1 div.sk-container {/* jupyter's `normalize.less` sets `[hidden] { display: none; }` but bootstrap.min.css set `[hidden] { display: none !important; }` so we also need the `!important` here to be able to override the default hidden behavior on the sphinx rendered scikit-learn.org. See: https://github.com/scikit-learn/scikit-learn/issues/21755 */display: inline-block !important;position: relative;}#sk-container-id-1 div.sk-text-repr-fallback {display: none;}</style><div id=\"sk-container-id-1\" class=\"sk-top-container\"><div class=\"sk-text-repr-fallback\"><pre>Pipeline(steps=[(&#x27;vectorizer&#x27;, CountVectorizer()),\n",
       "                (&#x27;tfidf&#x27;, TfidfTransformer()),\n",
       "                (&#x27;clf&#x27;,\n",
       "                 OneVsRestClassifier(estimator=LinearSVC(class_weight=&#x27;balanced&#x27;)))])</pre><b>In a Jupyter environment, please rerun this cell to show the HTML representation or trust the notebook. <br />On GitHub, the HTML representation is unable to render, please try loading this page with nbviewer.org.</b></div><div class=\"sk-container\" hidden><div class=\"sk-item sk-dashed-wrapped\"><div class=\"sk-label-container\"><div class=\"sk-label sk-toggleable\"><input class=\"sk-toggleable__control sk-hidden--visually\" id=\"sk-estimator-id-1\" type=\"checkbox\" ><label for=\"sk-estimator-id-1\" class=\"sk-toggleable__label sk-toggleable__label-arrow\">Pipeline</label><div class=\"sk-toggleable__content\"><pre>Pipeline(steps=[(&#x27;vectorizer&#x27;, CountVectorizer()),\n",
       "                (&#x27;tfidf&#x27;, TfidfTransformer()),\n",
       "                (&#x27;clf&#x27;,\n",
       "                 OneVsRestClassifier(estimator=LinearSVC(class_weight=&#x27;balanced&#x27;)))])</pre></div></div></div><div class=\"sk-serial\"><div class=\"sk-item\"><div class=\"sk-estimator sk-toggleable\"><input class=\"sk-toggleable__control sk-hidden--visually\" id=\"sk-estimator-id-2\" type=\"checkbox\" ><label for=\"sk-estimator-id-2\" class=\"sk-toggleable__label sk-toggleable__label-arrow\">CountVectorizer</label><div class=\"sk-toggleable__content\"><pre>CountVectorizer()</pre></div></div></div><div class=\"sk-item\"><div class=\"sk-estimator sk-toggleable\"><input class=\"sk-toggleable__control sk-hidden--visually\" id=\"sk-estimator-id-3\" type=\"checkbox\" ><label for=\"sk-estimator-id-3\" class=\"sk-toggleable__label sk-toggleable__label-arrow\">TfidfTransformer</label><div class=\"sk-toggleable__content\"><pre>TfidfTransformer()</pre></div></div></div><div class=\"sk-item sk-dashed-wrapped\"><div class=\"sk-label-container\"><div class=\"sk-label sk-toggleable\"><input class=\"sk-toggleable__control sk-hidden--visually\" id=\"sk-estimator-id-4\" type=\"checkbox\" ><label for=\"sk-estimator-id-4\" class=\"sk-toggleable__label sk-toggleable__label-arrow\">clf: OneVsRestClassifier</label><div class=\"sk-toggleable__content\"><pre>OneVsRestClassifier(estimator=LinearSVC(class_weight=&#x27;balanced&#x27;))</pre></div></div></div><div class=\"sk-parallel\"><div class=\"sk-parallel-item\"><div class=\"sk-item\"><div class=\"sk-label-container\"><div class=\"sk-label sk-toggleable\"><input class=\"sk-toggleable__control sk-hidden--visually\" id=\"sk-estimator-id-5\" type=\"checkbox\" ><label for=\"sk-estimator-id-5\" class=\"sk-toggleable__label sk-toggleable__label-arrow\">estimator: LinearSVC</label><div class=\"sk-toggleable__content\"><pre>LinearSVC(class_weight=&#x27;balanced&#x27;)</pre></div></div></div><div class=\"sk-serial\"><div class=\"sk-item\"><div class=\"sk-estimator sk-toggleable\"><input class=\"sk-toggleable__control sk-hidden--visually\" id=\"sk-estimator-id-6\" type=\"checkbox\" ><label for=\"sk-estimator-id-6\" class=\"sk-toggleable__label sk-toggleable__label-arrow\">LinearSVC</label><div class=\"sk-toggleable__content\"><pre>LinearSVC(class_weight=&#x27;balanced&#x27;)</pre></div></div></div></div></div></div></div></div></div></div></div></div>"
      ],
      "text/plain": [
       "Pipeline(steps=[('vectorizer', CountVectorizer()),\n",
       "                ('tfidf', TfidfTransformer()),\n",
       "                ('clf',\n",
       "                 OneVsRestClassifier(estimator=LinearSVC(class_weight='balanced')))])"
      ]
     },
     "execution_count": 26,
     "metadata": {},
     "output_type": "execute_result"
    }
   ],
   "source": [
    "#fit model with training data\n",
    "model.fit(X_train, y_train)\n"
   ]
  },
  {
   "cell_type": "code",
   "execution_count": 27,
   "id": "609b763e",
   "metadata": {
    "scrolled": false
   },
   "outputs": [
    {
     "data": {
      "image/png": "[encoded data removed]",
      "text/plain": [
       "<Figure size 432x432 with 2 Axes>"
      ]
     },
     "metadata": {
      "needs_background": "light"
     },
     "output_type": "display_data"
    }
   ],
   "source": [
    "y_pred = model.predict(X_test)\n",
    "conf_mat = confusion_matrix(y_test, y_pred)\n",
    "fig, ax = plt.subplots(figsize=(6,6))\n",
    "sns.heatmap(conf_mat, annot=True, cmap=\"Blues\", fmt='d',\n",
    "            xticklabels=job_id_df.JobType.values, \n",
    "            yticklabels=job_id_df.JobType.values)\n",
    "plt.ylabel('Actual')\n",
    "plt.xlabel('Predicted')\n",
    "plt.title(\"CONFUSION MATRIX - LinearSVC\\n\", size=16);"
   ]
  },
  {
   "cell_type": "code",
   "execution_count": 28,
   "id": "d33f2ecd",
   "metadata": {},
   "outputs": [
    {
     "name": "stdout",
     "output_type": "stream",
     "text": [
      "\t\t\tCLASSIFICATIION METRICS\n",
      "\n",
      "                  precision    recall  f1-score   support\n",
      "\n",
      "   Jobs – Retail       0.98      0.89      0.93        46\n",
      "       Jobs – IT       0.93      0.82      0.87        17\n",
      "Rent – Apartment       0.94      0.95      0.95       101\n",
      "    Sell – House       0.86      0.96      0.91        26\n",
      "         Banking       0.98      0.99      0.98       119\n",
      "\n",
      "        accuracy                           0.95       309\n",
      "       macro avg       0.94      0.92      0.93       309\n",
      "    weighted avg       0.95      0.95      0.95       309\n",
      "\n"
     ]
    }
   ],
   "source": [
    "# Classification report\n",
    "print('\\t\\t\\tCLASSIFICATIION METRICS\\n')\n",
    "print(classification_report(y_test, y_pred, \n",
    "                                    target_names= df['JobType'].unique()))"
   ]
  },
  {
   "cell_type": "markdown",
   "id": "6b2b2569",
   "metadata": {},
   "source": [
    "# Save the model for Later Use"
   ]
  },
  {
   "cell_type": "code",
   "execution_count": 29,
   "id": "830defc1",
   "metadata": {},
   "outputs": [],
   "source": [
    "import pickle\n",
    "filename = 'jupyterfinalmodel.sav'\n",
    "# pickle.dump(model, open(filename, 'wb'))"
   ]
  },
  {
   "cell_type": "markdown",
   "id": "239e012e",
   "metadata": {},
   "source": [
    "# Load The Model"
   ]
  },
  {
   "cell_type": "code",
   "execution_count": 30,
   "id": "b814950c",
   "metadata": {},
   "outputs": [],
   "source": [
    "loaded_model = pickle.load(open(filename, 'rb'))"
   ]
  },
  {
   "cell_type": "markdown",
   "id": "7b15289e",
   "metadata": {},
   "source": [
    "# Check Accuracy"
   ]
  },
  {
   "cell_type": "code",
   "execution_count": 31,
   "id": "64094d1a",
   "metadata": {},
   "outputs": [
    {
     "name": "stdout",
     "output_type": "stream",
     "text": [
      "0.9514563106796117\n"
     ]
    }
   ],
   "source": [
    "result = loaded_model.score(X_test, y_test)\n",
    "print(result)"
   ]
  },
  {
   "cell_type": "code",
   "execution_count": 32,
   "id": "d807d096",
   "metadata": {},
   "outputs": [
    {
     "data": {
      "text/plain": [
       "array(['Banking', 'Jobs – IT', 'Jobs – Retail', 'Rent – Apartment',\n",
       "       'Sell – House'], dtype='<U16')"
      ]
     },
     "execution_count": 32,
     "metadata": {},
     "output_type": "execute_result"
    }
   ],
   "source": [
    "model.classes_"
   ]
  },
  {
   "cell_type": "markdown",
   "id": "7c4634c3",
   "metadata": {},
   "source": [
    "# Sample Input and Testing The Model"
   ]
  },
  {
   "cell_type": "code",
   "execution_count": 33,
   "id": "5b6aed07",
   "metadata": {},
   "outputs": [
    {
     "name": "stdout",
     "output_type": "stream",
     "text": [
      "hi its owrking fine a new model in banl\n"
     ]
    },
    {
     "data": {
      "text/plain": [
       "'Sell – House'"
      ]
     },
     "execution_count": 33,
     "metadata": {},
     "output_type": "execute_result"
    }
   ],
   "source": [
    "job = input()\n",
    "model.predict([job])[0]"
   ]
  },
  {
   "cell_type": "code",
   "execution_count": null,
   "id": "236295d1",
   "metadata": {},
   "outputs": [],
   "source": []
  }
 ],
 "metadata": {
  "kernelspec": {
   "display_name": "Python 3 (ipykernel)",
   "language": "python",
   "name": "python3"
  },
  "language_info": {
   "codemirror_mode": {
    "name": "ipython",
    "version": 3
   },
   "file_extension": ".py",
   "mimetype": "text/x-python",
   "name": "python",
   "nbconvert_exporter": "python",
   "pygments_lexer": "ipython3",
   "version": "3.10.5"
  },
  "vscode": {
   "interpreter": {
    "hash": "d9ca97d5aeda0a78b6c95d144b36bae7c2e0ce535ab6d52fecfe43011b8ebe93"
   }
  }
 },
 "nbformat": 4,
 "nbformat_minor": 5
}
